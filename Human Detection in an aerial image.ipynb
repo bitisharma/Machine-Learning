{
 "cells": [
  {
   "cell_type": "code",
   "execution_count": 2,
   "metadata": {},
   "outputs": [],
   "source": [
    "import cv2\n",
    "import imutils"
   ]
  },
  {
   "cell_type": "code",
   "execution_count": 3,
   "metadata": {},
   "outputs": [
    {
     "name": "stdout",
     "output_type": "stream",
     "text": [
      "Human Detected : 11\n"
     ]
    }
   ],
   "source": [
    "hog = cv2.HOGDescriptor() \n",
    "hog.setSVMDetector(cv2.HOGDescriptor_getDefaultPeopleDetector()) \n",
    "image = cv2.imread('C:/Users/rs97r/Downloads/TopDownHumanDetection_4032x3024.jpg')  \n",
    "image = imutils.resize(image, width = 3500) \n",
    "(humans, _) = hog.detectMultiScale(image, winStride=(5, 5), padding=(3, 3),scale=1.21)\n",
    "print('Human Detected :', len(humans))\n",
    "for (x, y, w, h) in humans: \n",
    "    cv2.rectangle(image, (x, y),  \n",
    "                  (x + w, y + h),  \n",
    "                  (0, 0, 255), 2)  \n",
    "cv2.imshow(\"Image\", image) \n",
    "cv2.waitKey(0)  \n",
    "cv2.destroyAllWindows()"
   ]
  },
  {
   "cell_type": "code",
   "execution_count": 4,
   "metadata": {},
   "outputs": [],
   "source": [
    "import numpy\n",
    "import matplotlib.pyplot as plt"
   ]
  },
  {
   "cell_type": "code",
   "execution_count": 5,
   "metadata": {},
   "outputs": [
    {
     "data": {
      "text/plain": [
       "<matplotlib.image.AxesImage at 0x27268f51370>"
      ]
     },
     "execution_count": 5,
     "metadata": {},
     "output_type": "execute_result"
    },
    {
     "data": {
      "image/png": "[encoded data removed]",
      "text/plain": [
       "<Figure size 432x288 with 1 Axes>"
      ]
     },
     "metadata": {
      "needs_background": "light"
     },
     "output_type": "display_data"
    }
   ],
   "source": [
    "first_bb_points = [[1250, 1210], [1440, 1210], [1440, 1390], [1250, 1390]]\n",
    "stencil = numpy.zeros(image.shape).astype(image.dtype)\n",
    "contours = [numpy.array(first_bb_points)]\n",
    "color = [255, 255, 255]\n",
    "cv2.fillPoly(stencil, contours, color)\n",
    "result1 = cv2.bitwise_and(image, stencil)\n",
    "result1 = cv2.cvtColor(result1, cv2.COLOR_BGR2RGB)\n",
    "plt.imshow(result1)"
   ]
  },
  {
   "cell_type": "code",
   "execution_count": 6,
   "metadata": {},
   "outputs": [
    {
     "data": {
      "text/plain": [
       "<matplotlib.image.AxesImage at 0x27268ffb2e0>"
      ]
     },
     "execution_count": 6,
     "metadata": {},
     "output_type": "execute_result"
    },
    {
     "data": {
      "image/png": "[encoded data removed]",
      "text/plain": [
       "<Figure size 432x288 with 1 Axes>"
      ]
     },
     "metadata": {
      "needs_background": "light"
     },
     "output_type": "display_data"
    }
   ],
   "source": [
    "second_bb_points = [[1280, 990], [1438, 990], [1438, 1290], [1280, 1390]]\n",
    "stencil = numpy.zeros(image.shape).astype(image.dtype)\n",
    "contours = [numpy.array(second_bb_points)]\n",
    "color = [255, 255, 255]\n",
    "cv2.fillPoly(stencil, contours, color)\n",
    "result2 = cv2.bitwise_and(image, stencil)\n",
    "result2 = cv2.cvtColor(result2, cv2.COLOR_BGR2RGB)\n",
    "plt.imshow(result2)"
   ]
  },
  {
   "cell_type": "code",
   "execution_count": 7,
   "metadata": {},
   "outputs": [
    {
     "name": "stdout",
     "output_type": "stream",
     "text": [
      "IoU is 0.2994780808327702\n"
     ]
    }
   ],
   "source": [
    "intersection = numpy.logical_and(result1, result2)\n",
    "union = numpy.logical_or(result1, result2)\n",
    "iou_score = numpy.sum(intersection) / numpy.sum(union)\n",
    "print(\"IoU is\", iou_score)"
   ]
  },
  {
   "cell_type": "code",
   "execution_count": null,
   "metadata": {},
   "outputs": [],
   "source": []
  }
 ],
 "metadata": {
  "kernelspec": {
   "display_name": "Python 3",
   "language": "python",
   "name": "python3"
  },
  "language_info": {
   "codemirror_mode": {
    "name": "ipython",
    "version": 3
   },
   "file_extension": ".py",
   "mimetype": "text/x-python",
   "name": "python",
   "nbconvert_exporter": "python",
   "pygments_lexer": "ipython3",
   "version": "3.8.3"
  }
 },
 "nbformat": 4,
 "nbformat_minor": 4
}
